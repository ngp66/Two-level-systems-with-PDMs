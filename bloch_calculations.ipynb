{
 "cells": [
  {
   "cell_type": "markdown",
   "id": "30b56428",
   "metadata": {},
   "source": [
    "### Finding analytical solution"
   ]
  },
  {
   "cell_type": "code",
   "execution_count": 1,
   "id": "fbd52cfe",
   "metadata": {},
   "outputs": [],
   "source": [
    "from sympy import *\n",
    "import numpy as np"
   ]
  },
  {
   "cell_type": "code",
   "execution_count": 2,
   "id": "1dd47050",
   "metadata": {},
   "outputs": [],
   "source": [
    "# Define parameters in atomic units\n",
    "hbar = 1\n",
    "w0 = 5  # atom transition frequency \n",
    "wL = 5  # laser frequency\n",
    "det = wL - w0  # detuning from resonance\n",
    "d = 1  # transition dipole moment\n",
    "E = 0.2  # electric field amplitude\n",
    "b = 0.05 # spontaneous emission coefficient (gamma)\n",
    "times = np.linspace(0, 100, 1001)  # creates list of 10001 points evenly distributed between values 0 and 100\n",
    "\n",
    "a = E * d / hbar # Rabi frequency (omega_R)\n",
    "c = np.sqrt(a**2 - b**2/16) # uppercase gamma"
   ]
  },
  {
   "cell_type": "code",
   "execution_count": 3,
   "id": "62480bac",
   "metadata": {},
   "outputs": [
    {
     "data": {
      "text/plain": [
       "{c_1: 4.0*a**2/(8.0*a**2 + b**2),\n",
       " c_2: (256.0*a**4 - 4.0*a**2*b**2 - 64.0*a**2*c**2)/(8.0*a**2*b**2 + 128.0*a**2*c**2 + b**4 + 16.0*b**2*c**2),\n",
       " c_3: (32.0*I*a**4 + I*a**2*b**2 + 4.0*a**2*b*c)/(8.0*a**2*b*c - 32.0*I*a**2*c**2 + b**3*c - 4.0*I*b**2*c**2),\n",
       " c_4: (-32.0*I*a**4 - I*a**2*b**2 + 4.0*a**2*b*c)/(8.0*a**2*b*c + 32.0*I*a**2*c**2 + b**3*c + 4.0*I*b**2*c**2)}"
      ]
     },
     "execution_count": 3,
     "metadata": {},
     "output_type": "execute_result"
    }
   ],
   "source": [
    "#Define and solve the linear equations\n",
    "#omega_R = a, gamma = b, uppercase gamma = c\n",
    "c_1, c_2, c_3, c_4 = symbols('c_1 c_2 c_3 c_4')\n",
    "a,b,c = symbols('a b c', real = True)\n",
    "\n",
    "eq1 = Eq(c_1 - 4*(a**2)/(b**2 + 8*(a**2)), 0)\n",
    "eq2 = Eq(c_1 + c_2 + c_3 + c_4, 0)\n",
    "eq3 = Eq(-c_2 + (-3/2 + 2j*c/b)*c_3 + (-3/2 - 2j*c/b)*c_4, 0)\n",
    "eq4 = Eq((b**2/4)*c_2 + ((3*b/4 - 1j*c)**2)*c_3 + ((3*b/4 + 1j*c)**2)*c_4, 2*(a**2))\n",
    "sol = solve((eq1, eq2, eq3, eq4),(c_1, c_2, c_3, c_4))\n",
    "sol"
   ]
  },
  {
   "cell_type": "code",
   "execution_count": 4,
   "id": "c5c0bc51",
   "metadata": {},
   "outputs": [
    {
     "data": {
      "text/latex": [
       "$\\displaystyle \\frac{0.25 \\left(8.0 a^{2} + b^{2}\\right) \\left(32.0 i a^{2} + i b^{2} + 4.0 b c\\right)}{c \\left(8.0 a^{2} b - 32.0 i a^{2} c + b^{3} - 4.0 i b^{2} c\\right)}$"
      ],
      "text/plain": [
       "0.25*(8.0*a**2 + b**2)*(32.0*I*a**2 + I*b**2 + 4.0*b*c)/(c*(8.0*a**2*b - 32.0*I*a**2*c + b**3 - 4.0*I*b**2*c))"
      ]
     },
     "execution_count": 4,
     "metadata": {},
     "output_type": "execute_result"
    }
   ],
   "source": [
    "f = sol[c_2]/sol[c_1]\n",
    "\n",
    "g = sol[c_3]/sol[c_1]\n",
    "h = sol[c_4]/sol[c_1]\n",
    "\n",
    "#simplify(f)\n",
    "simplify(g)\n",
    "#simplify(h)\n",
    "\n",
    "c_2_1 = simplify(f)\n",
    "c_3_1 = simplify(g)\n",
    "c_4_1 = simplify(h)\n",
    "\n",
    "simplify(g)\n"
   ]
  },
  {
   "cell_type": "code",
   "execution_count": 5,
   "id": "7f238dd0",
   "metadata": {},
   "outputs": [
    {
     "data": {
      "text/latex": [
       "$\\displaystyle \\sqrt{\\frac{1}{c^{2} \\left(64.0 a^{4} b^{2} + 1024.0 a^{4} c^{2} + 16.0 a^{2} b^{4} + 256.0 a^{2} b^{2} c^{2} + b^{6} + 16.0 b^{4} c^{2}\\right)}} \\left(64.0 a^{2} + 8.0 b^{2}\\right) \\sqrt{a^{4} + 0.0625 a^{2} b^{2} + 0.0009765625 b^{4} + 0.015625 b^{2} c^{2}}$"
      ],
      "text/plain": [
       "sqrt(1/(c**2*(64.0*a**4*b**2 + 1024.0*a**4*c**2 + 16.0*a**2*b**4 + 256.0*a**2*b**2*c**2 + b**6 + 16.0*b**4*c**2)))*(64.0*a**2 + 8.0*b**2)*sqrt(a**4 + 0.0625*a**2*b**2 + 0.0009765625*b**4 + 0.015625*b**2*c**2)"
      ]
     },
     "execution_count": 5,
     "metadata": {},
     "output_type": "execute_result"
    }
   ],
   "source": [
    "#Simplify expression for rho_ee element of density matrix\n",
    "t = symbols('t')\n",
    "'''def rho_ee(t):\n",
    "    rho_ee = simplify(sol[c_1] + exp(-b*t/2)*sol[c_2] + exp((-3*b/4 + 1j*c)*t)*sol[c_3] + exp((-3*b/4 - 1j*c)*t)*sol[c_4])\n",
    "    return rho_ee\n",
    "rho_ee_new = rho_ee(times)'''\n",
    "\n",
    "rho_ee = simplify(sol[c_1] + exp(-b*t/2)*sol[c_2] + exp((-3*b/4 + 1j*c)*t)*sol[c_3] + exp((-3*b/4 - 1j*c)*t)*sol[c_4])\n",
    "rho_ee\n",
    "\n",
    "rho_ee_1 = sol[c_1]*simplify(1 + exp(-b*t/2)*c_2_1 + exp((-3*b/4 + 1j*c)*t)*c_3_1 + exp((-3*b/4 - 1j*c)*t)*c_4_1)\n",
    "rho_ee_1\n",
    "\n",
    "simplify(sqrt(c_3_1*conjugate(c_3_1)))"
   ]
  },
  {
   "cell_type": "code",
   "execution_count": 68,
   "id": "13928f25",
   "metadata": {},
   "outputs": [
    {
     "data": {
      "text/latex": [
       "$\\displaystyle \\frac{0.25 \\left(8.0 a^{2} + b^{2}\\right) \\left(- 32.0 i a^{2} - i b^{2} + 4.0 b c\\right)}{c \\left(8.0 a^{2} b + 32.0 i a^{2} c + b^{3} + 4.0 i b^{2} c\\right)}$"
      ],
      "text/plain": [
       "0.25*(8.0*a**2 + b**2)*(-32.0*I*a**2 - I*b**2 + 4.0*b*c)/(c*(8.0*a**2*b + 32.0*I*a**2*c + b**3 + 4.0*I*b**2*c))"
      ]
     },
     "execution_count": 68,
     "metadata": {},
     "output_type": "execute_result"
    }
   ],
   "source": [
    "conjugate(c_3_1)"
   ]
  },
  {
   "cell_type": "markdown",
   "id": "f6ca9dc1",
   "metadata": {},
   "source": [
    "### Finding numerical solution"
   ]
  },
  {
   "cell_type": "code",
   "execution_count": null,
   "id": "5586fd2d",
   "metadata": {},
   "outputs": [],
   "source": [
    "from qutip import *"
   ]
  },
  {
   "cell_type": "code",
   "execution_count": null,
   "id": "9b9fb18a",
   "metadata": {},
   "outputs": [],
   "source": [
    "e = basis(2, 0)  # excited state\n",
    "g = basis(2, 1)  # ground state"
   ]
  },
  {
   "cell_type": "code",
   "execution_count": null,
   "id": "19c2048c",
   "metadata": {},
   "outputs": [],
   "source": [
    "rho0 = g * g.dag()  # initially system in the ground state"
   ]
  },
  {
   "cell_type": "code",
   "execution_count": null,
   "id": "d99ca7bc",
   "metadata": {},
   "outputs": [],
   "source": [
    "H0 = 0.5 * hbar * w0 * sigmaz()  # time-independent part\n",
    "H1 = [-0.5 * E * d * sigmax(), \"exp(1j*wL*t) + exp(-1j*wL*t)\"]  # time-dependent part as a list where second term is f(t)\n",
    "H = [H0, H1]  # the whole Hamiltonian has to be write as a list of all parts"
   ]
  },
  {
   "cell_type": "code",
   "execution_count": null,
   "id": "3582619c",
   "metadata": {},
   "outputs": [],
   "source": [
    "rho = mesolve(H, rho0, times, [np.sqrt(y)*sigmam()], [], args = {\"wL\": wL}, progress_bar=None)"
   ]
  },
  {
   "cell_type": "markdown",
   "id": "7349bb21",
   "metadata": {},
   "source": [
    "### Plotting numerical and analytical solutions"
   ]
  },
  {
   "cell_type": "code",
   "execution_count": null,
   "id": "398977dc",
   "metadata": {},
   "outputs": [],
   "source": [
    "from matplotlib import pyplot as plt"
   ]
  },
  {
   "cell_type": "code",
   "execution_count": null,
   "id": "ca3b0a76",
   "metadata": {},
   "outputs": [],
   "source": []
  },
  {
   "cell_type": "code",
   "execution_count": null,
   "id": "b0e1fe60",
   "metadata": {},
   "outputs": [],
   "source": [
    "fig, ax = plt.subplots(1, figsize=(15, 8)) \n",
    "ax.plot(times, expect(sigmaz(), rho.states), linewidth=2, label='full')  # plotting full <sigma_z>\n",
    "ax.plot(times, 2 * rho_ee_1 - 1, '--', linewidth=2, label='analytical')  # plotting analytical <sigma_z>\n",
    "ax.set_xlabel('times')  # set label of x-axis\n",
    "ax.set_ylabel(r'Tr($\\rho\\cdot\\sigma_z$)')  # set label of y-axes (LateX formulas are used here)\n",
    "ax.grid()  # plot grid\n",
    "plt.legend()\n",
    "plt.show()  # show the results"
   ]
  },
  {
   "cell_type": "code",
   "execution_count": null,
   "id": "c321e4c6",
   "metadata": {},
   "outputs": [],
   "source": []
  }
 ],
 "metadata": {
  "kernelspec": {
   "display_name": "Python 3",
   "language": "python",
   "name": "python3"
  },
  "language_info": {
   "codemirror_mode": {
    "name": "ipython",
    "version": 3
   },
   "file_extension": ".py",
   "mimetype": "text/x-python",
   "name": "python",
   "nbconvert_exporter": "python",
   "pygments_lexer": "ipython3",
   "version": "3.6.9"
  }
 },
 "nbformat": 4,
 "nbformat_minor": 5
}
